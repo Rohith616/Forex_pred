{
  "nbformat": 4,
  "nbformat_minor": 0,
  "metadata": {
    "colab": {
      "name": "forex_TSLA.ipynb",
      "provenance": [],
      "collapsed_sections": [],
      "authorship_tag": "ABX9TyNAvlkEUHYFWGfKvGL4WIWl",
      "include_colab_link": true
    },
    "kernelspec": {
      "name": "python3",
      "display_name": "Python 3"
    },
    "language_info": {
      "name": "python"
    }
  },
  "cells": [
    {
      "cell_type": "markdown",
      "metadata": {
        "id": "view-in-github",
        "colab_type": "text"
      },
      "source": [
        "<a href=\"https://colab.research.google.com/github/Rohithtechis/Forex_pred/blob/main/forex_TSLA.ipynb\" target=\"_parent\"><img src=\"https://colab.research.google.com/assets/colab-badge.svg\" alt=\"Open In Colab\"/></a>"
      ]
    },
    {
      "cell_type": "code",
      "metadata": {
        "id": "UVh18VzdwHbi"
      },
      "source": [
        "import numpy as np\n",
        "import pandas as pd\n",
        "import seaborn as sns\n",
        "import matplotlib.pyplot as plt"
      ],
      "execution_count": null,
      "outputs": []
    },
    {
      "cell_type": "code",
      "metadata": {
        "colab": {
          "base_uri": "https://localhost:8080/",
          "height": 206
        },
        "id": "IwARqnBVwQa3",
        "outputId": "3c2163ae-3233-4ebc-a6cd-d9b5c54f23fd"
      },
      "source": [
        "data=pd.read_csv('/content/TSLA.csv')\n",
        "data.head()"
      ],
      "execution_count": null,
      "outputs": [
        {
          "output_type": "execute_result",
          "data": {
            "text/html": [
              "<div>\n",
              "<style scoped>\n",
              "    .dataframe tbody tr th:only-of-type {\n",
              "        vertical-align: middle;\n",
              "    }\n",
              "\n",
              "    .dataframe tbody tr th {\n",
              "        vertical-align: top;\n",
              "    }\n",
              "\n",
              "    .dataframe thead th {\n",
              "        text-align: right;\n",
              "    }\n",
              "</style>\n",
              "<table border=\"1\" class=\"dataframe\">\n",
              "  <thead>\n",
              "    <tr style=\"text-align: right;\">\n",
              "      <th></th>\n",
              "      <th>Date</th>\n",
              "      <th>Open</th>\n",
              "      <th>High</th>\n",
              "      <th>Low</th>\n",
              "      <th>Close</th>\n",
              "      <th>Adj Close</th>\n",
              "      <th>Volume</th>\n",
              "    </tr>\n",
              "  </thead>\n",
              "  <tbody>\n",
              "    <tr>\n",
              "      <th>0</th>\n",
              "      <td>2010-07-01</td>\n",
              "      <td>5.000</td>\n",
              "      <td>5.184</td>\n",
              "      <td>4.054</td>\n",
              "      <td>4.392</td>\n",
              "      <td>4.392</td>\n",
              "      <td>41094000</td>\n",
              "    </tr>\n",
              "    <tr>\n",
              "      <th>1</th>\n",
              "      <td>2010-07-02</td>\n",
              "      <td>4.600</td>\n",
              "      <td>4.620</td>\n",
              "      <td>3.742</td>\n",
              "      <td>3.840</td>\n",
              "      <td>3.840</td>\n",
              "      <td>25699000</td>\n",
              "    </tr>\n",
              "    <tr>\n",
              "      <th>2</th>\n",
              "      <td>2010-07-06</td>\n",
              "      <td>4.000</td>\n",
              "      <td>4.000</td>\n",
              "      <td>3.166</td>\n",
              "      <td>3.222</td>\n",
              "      <td>3.222</td>\n",
              "      <td>34334500</td>\n",
              "    </tr>\n",
              "    <tr>\n",
              "      <th>3</th>\n",
              "      <td>2010-07-07</td>\n",
              "      <td>3.280</td>\n",
              "      <td>3.326</td>\n",
              "      <td>2.996</td>\n",
              "      <td>3.160</td>\n",
              "      <td>3.160</td>\n",
              "      <td>34608500</td>\n",
              "    </tr>\n",
              "    <tr>\n",
              "      <th>4</th>\n",
              "      <td>2010-07-08</td>\n",
              "      <td>3.228</td>\n",
              "      <td>3.504</td>\n",
              "      <td>3.114</td>\n",
              "      <td>3.492</td>\n",
              "      <td>3.492</td>\n",
              "      <td>38557000</td>\n",
              "    </tr>\n",
              "  </tbody>\n",
              "</table>\n",
              "</div>"
            ],
            "text/plain": [
              "         Date   Open   High    Low  Close  Adj Close    Volume\n",
              "0  2010-07-01  5.000  5.184  4.054  4.392      4.392  41094000\n",
              "1  2010-07-02  4.600  4.620  3.742  3.840      3.840  25699000\n",
              "2  2010-07-06  4.000  4.000  3.166  3.222      3.222  34334500\n",
              "3  2010-07-07  3.280  3.326  2.996  3.160      3.160  34608500\n",
              "4  2010-07-08  3.228  3.504  3.114  3.492      3.492  38557000"
            ]
          },
          "metadata": {},
          "execution_count": 132
        }
      ]
    },
    {
      "cell_type": "code",
      "metadata": {
        "id": "HsqhRKWLwQgm",
        "colab": {
          "base_uri": "https://localhost:8080/",
          "height": 449
        },
        "outputId": "aa531e6a-d18c-43f9-f1c5-c942510ebad1"
      },
      "source": [
        "from datetime import datetime\n",
        "data.Date=pd.to_datetime(data.Date )\n",
        "data.info()\n",
        "data['Month']=pd.DatetimeIndex(data['Date']).month\n",
        "data['Year']=pd.DatetimeIndex(data['Date']).year\n",
        "data['tday']=pd.DatetimeIndex(data['Date']).day\n",
        "data.head()"
      ],
      "execution_count": null,
      "outputs": [
        {
          "output_type": "stream",
          "name": "stdout",
          "text": [
            "<class 'pandas.core.frame.DataFrame'>\n",
            "RangeIndex: 2843 entries, 0 to 2842\n",
            "Data columns (total 7 columns):\n",
            " #   Column     Non-Null Count  Dtype         \n",
            "---  ------     --------------  -----         \n",
            " 0   Date       2843 non-null   datetime64[ns]\n",
            " 1   Open       2843 non-null   float64       \n",
            " 2   High       2843 non-null   float64       \n",
            " 3   Low        2843 non-null   float64       \n",
            " 4   Close      2843 non-null   float64       \n",
            " 5   Adj Close  2843 non-null   float64       \n",
            " 6   Volume     2843 non-null   int64         \n",
            "dtypes: datetime64[ns](1), float64(5), int64(1)\n",
            "memory usage: 155.6 KB\n"
          ]
        },
        {
          "output_type": "execute_result",
          "data": {
            "text/html": [
              "<div>\n",
              "<style scoped>\n",
              "    .dataframe tbody tr th:only-of-type {\n",
              "        vertical-align: middle;\n",
              "    }\n",
              "\n",
              "    .dataframe tbody tr th {\n",
              "        vertical-align: top;\n",
              "    }\n",
              "\n",
              "    .dataframe thead th {\n",
              "        text-align: right;\n",
              "    }\n",
              "</style>\n",
              "<table border=\"1\" class=\"dataframe\">\n",
              "  <thead>\n",
              "    <tr style=\"text-align: right;\">\n",
              "      <th></th>\n",
              "      <th>Date</th>\n",
              "      <th>Open</th>\n",
              "      <th>High</th>\n",
              "      <th>Low</th>\n",
              "      <th>Close</th>\n",
              "      <th>Adj Close</th>\n",
              "      <th>Volume</th>\n",
              "      <th>Month</th>\n",
              "      <th>Year</th>\n",
              "      <th>tday</th>\n",
              "    </tr>\n",
              "  </thead>\n",
              "  <tbody>\n",
              "    <tr>\n",
              "      <th>0</th>\n",
              "      <td>2010-07-01</td>\n",
              "      <td>5.000</td>\n",
              "      <td>5.184</td>\n",
              "      <td>4.054</td>\n",
              "      <td>4.392</td>\n",
              "      <td>4.392</td>\n",
              "      <td>41094000</td>\n",
              "      <td>7</td>\n",
              "      <td>2010</td>\n",
              "      <td>1</td>\n",
              "    </tr>\n",
              "    <tr>\n",
              "      <th>1</th>\n",
              "      <td>2010-07-02</td>\n",
              "      <td>4.600</td>\n",
              "      <td>4.620</td>\n",
              "      <td>3.742</td>\n",
              "      <td>3.840</td>\n",
              "      <td>3.840</td>\n",
              "      <td>25699000</td>\n",
              "      <td>7</td>\n",
              "      <td>2010</td>\n",
              "      <td>2</td>\n",
              "    </tr>\n",
              "    <tr>\n",
              "      <th>2</th>\n",
              "      <td>2010-07-06</td>\n",
              "      <td>4.000</td>\n",
              "      <td>4.000</td>\n",
              "      <td>3.166</td>\n",
              "      <td>3.222</td>\n",
              "      <td>3.222</td>\n",
              "      <td>34334500</td>\n",
              "      <td>7</td>\n",
              "      <td>2010</td>\n",
              "      <td>6</td>\n",
              "    </tr>\n",
              "    <tr>\n",
              "      <th>3</th>\n",
              "      <td>2010-07-07</td>\n",
              "      <td>3.280</td>\n",
              "      <td>3.326</td>\n",
              "      <td>2.996</td>\n",
              "      <td>3.160</td>\n",
              "      <td>3.160</td>\n",
              "      <td>34608500</td>\n",
              "      <td>7</td>\n",
              "      <td>2010</td>\n",
              "      <td>7</td>\n",
              "    </tr>\n",
              "    <tr>\n",
              "      <th>4</th>\n",
              "      <td>2010-07-08</td>\n",
              "      <td>3.228</td>\n",
              "      <td>3.504</td>\n",
              "      <td>3.114</td>\n",
              "      <td>3.492</td>\n",
              "      <td>3.492</td>\n",
              "      <td>38557000</td>\n",
              "      <td>7</td>\n",
              "      <td>2010</td>\n",
              "      <td>8</td>\n",
              "    </tr>\n",
              "  </tbody>\n",
              "</table>\n",
              "</div>"
            ],
            "text/plain": [
              "        Date   Open   High    Low  ...    Volume  Month  Year  tday\n",
              "0 2010-07-01  5.000  5.184  4.054  ...  41094000      7  2010     1\n",
              "1 2010-07-02  4.600  4.620  3.742  ...  25699000      7  2010     2\n",
              "2 2010-07-06  4.000  4.000  3.166  ...  34334500      7  2010     6\n",
              "3 2010-07-07  3.280  3.326  2.996  ...  34608500      7  2010     7\n",
              "4 2010-07-08  3.228  3.504  3.114  ...  38557000      7  2010     8\n",
              "\n",
              "[5 rows x 10 columns]"
            ]
          },
          "metadata": {},
          "execution_count": 133
        }
      ]
    },
    {
      "cell_type": "code",
      "metadata": {
        "colab": {
          "base_uri": "https://localhost:8080/",
          "height": 334
        },
        "id": "iE4EJRDcgCox",
        "outputId": "f309d383-a268-46a6-e002-061075a45fb0"
      },
      "source": [
        "sns.boxplot(data['Open'])\n",
        "plt.show()"
      ],
      "execution_count": null,
      "outputs": [
        {
          "output_type": "stream",
          "name": "stderr",
          "text": [
            "/usr/local/lib/python3.7/dist-packages/seaborn/_decorators.py:43: FutureWarning: Pass the following variable as a keyword arg: x. From version 0.12, the only valid positional argument will be `data`, and passing other arguments without an explicit keyword will result in an error or misinterpretation.\n",
            "  FutureWarning\n"
          ]
        },
        {
          "output_type": "display_data",
          "data": {
            "image/png": "[encoded data removed]",
            "text/plain": [
              "<Figure size 432x288 with 1 Axes>"
            ]
          },
          "metadata": {
            "needs_background": "light"
          }
        }
      ]
    },
    {
      "cell_type": "code",
      "metadata": {
        "colab": {
          "base_uri": "https://localhost:8080/"
        },
        "id": "gB5o5K7TgTvH",
        "outputId": "22520e63-dcad-4f7b-8060-2d52e8738dbf"
      },
      "source": [
        "Q1 = np.percentile(data['Open'], 25, interpolation = 'midpoint')  \n",
        "Q2 = np.percentile(data['Open'], 50, interpolation = 'midpoint')  \n",
        "Q3 = np.percentile(data['Open'], 75, interpolation = 'midpoint')     \n",
        "IQR = Q3 - Q1 \n",
        "low_lim = Q1 - 1.5 * IQR \n",
        "up_lim = Q3 + 1.5 * IQR\n",
        "print('low limit:', low_lim) \n",
        "print('upper limit:', up_lim)\n",
        "\n",
        "data=data[data.Open<up_lim]\n",
        "data=data[data.Open>low_lim]"
      ],
      "execution_count": null,
      "outputs": [
        {
          "output_type": "stream",
          "name": "stdout",
          "text": [
            "low limit: -70.78649999999999\n",
            "upper limit: 146.50549999999998\n"
          ]
        }
      ]
    },
    {
      "cell_type": "code",
      "metadata": {
        "colab": {
          "base_uri": "https://localhost:8080/",
          "height": 334
        },
        "id": "tEFS6NxqgyXc",
        "outputId": "0736ad6f-3685-4c2b-c278-8f10730857f0"
      },
      "source": [
        "sns.boxplot(data['Volume'])\n",
        "plt.show()"
      ],
      "execution_count": null,
      "outputs": [
        {
          "output_type": "stream",
          "name": "stderr",
          "text": [
            "/usr/local/lib/python3.7/dist-packages/seaborn/_decorators.py:43: FutureWarning: Pass the following variable as a keyword arg: x. From version 0.12, the only valid positional argument will be `data`, and passing other arguments without an explicit keyword will result in an error or misinterpretation.\n",
            "  FutureWarning\n"
          ]
        },
        {
          "output_type": "display_data",
          "data": {
            "image/png": "[encoded data removed]",
            "text/plain": [
              "<Figure size 432x288 with 1 Axes>"
            ]
          },
          "metadata": {
            "needs_background": "light"
          }
        }
      ]
    },
    {
      "cell_type": "code",
      "metadata": {
        "colab": {
          "base_uri": "https://localhost:8080/"
        },
        "id": "sjYPQWVFg-Ci",
        "outputId": "57ff6703-12dd-4c97-f856-b302a6e0e9dd"
      },
      "source": [
        "Q1 = np.percentile(data['Volume'], 25, interpolation = 'midpoint')  \n",
        "Q2 = np.percentile(data['Volume'], 50, interpolation = 'midpoint')  \n",
        "Q3 = np.percentile(data['Volume'], 75, interpolation = 'midpoint')     \n",
        "IQR = Q3 - Q1 \n",
        "low_lim = Q1 - 1.5 * IQR \n",
        "up_lim = Q3 + 1.5 * IQR\n",
        "print('low limit:', low_lim) \n",
        "print('upper limit:', up_lim)\n",
        "\n",
        "data=data[data.Volume<up_lim]\n",
        "data=data[data.Volume>low_lim]"
      ],
      "execution_count": null,
      "outputs": [
        {
          "output_type": "stream",
          "name": "stdout",
          "text": [
            "low limit: -31790750.0\n",
            "upper limit: 79107250.0\n"
          ]
        }
      ]
    },
    {
      "cell_type": "code",
      "metadata": {
        "id": "5pB_UBDjg-GT"
      },
      "source": [
        ""
      ],
      "execution_count": null,
      "outputs": []
    },
    {
      "cell_type": "code",
      "metadata": {
        "id": "xqRyQpACg-I7"
      },
      "source": [
        ""
      ],
      "execution_count": null,
      "outputs": []
    },
    {
      "cell_type": "code",
      "metadata": {
        "id": "WfHQTI05g-J_"
      },
      "source": [
        ""
      ],
      "execution_count": null,
      "outputs": []
    },
    {
      "cell_type": "code",
      "metadata": {
        "id": "zCGtrPOCfQJ-"
      },
      "source": [
        "data=data.drop(['Date','Adj Close','Low','Close','Open'],axis=1)"
      ],
      "execution_count": null,
      "outputs": []
    },
    {
      "cell_type": "code",
      "metadata": {
        "id": "wE0mT9s9wQjL",
        "colab": {
          "base_uri": "https://localhost:8080/",
          "height": 778
        },
        "outputId": "4befa64e-4777-4539-8f26-76a6da4577a4"
      },
      "source": [
        "corr=data.corr()\n",
        "plt.figure(figsize=(15,15))\n",
        "sns.heatmap(corr, annot=True,cmap='cubehelix_r',square=True)\n",
        "plt.show()"
      ],
      "execution_count": null,
      "outputs": [
        {
          "output_type": "display_data",
          "data": {
            "image/png": "[encoded data removed]",
            "text/plain": [
              "<Figure size 1080x1080 with 2 Axes>"
            ]
          },
          "metadata": {
            "needs_background": "light"
          }
        }
      ]
    },
    {
      "cell_type": "code",
      "metadata": {
        "id": "7Lf1a6NCemqP"
      },
      "source": [
        "from sklearn.model_selection import train_test_split\n",
        "train, test=train_test_split(data,test_size=0.25)"
      ],
      "execution_count": null,
      "outputs": []
    },
    {
      "cell_type": "code",
      "metadata": {
        "id": "Zf-QRQrYem45"
      },
      "source": [
        "X_train=train.drop(['High'],axis=1)\n",
        "y_train=train['High']\n",
        "X_test=test.drop(['High'],axis=1)\n",
        "y_test=test['High']"
      ],
      "execution_count": null,
      "outputs": []
    },
    {
      "cell_type": "code",
      "metadata": {
        "colab": {
          "base_uri": "https://localhost:8080/"
        },
        "id": "2eRlbCyjem9r",
        "outputId": "f64ea9ed-dac7-416c-c44a-84adbf007c90"
      },
      "source": [
        "print('Dimension of X_train dataframe:',X_train.shape)\n",
        "print('Dimension of y_train dataframe:',y_train.shape)\n",
        "print('Dimension of X_test dataframe:',X_test.shape)\n",
        "print('Dimension of y_test dataframe:',y_test.shape)"
      ],
      "execution_count": null,
      "outputs": [
        {
          "output_type": "stream",
          "name": "stdout",
          "text": [
            "Dimension of X_train dataframe: (1741, 4)\n",
            "Dimension of y_train dataframe: (1741,)\n",
            "Dimension of X_test dataframe: (581, 4)\n",
            "Dimension of y_test dataframe: (581,)\n"
          ]
        }
      ]
    },
    {
      "cell_type": "code",
      "metadata": {
        "colab": {
          "base_uri": "https://localhost:8080/"
        },
        "id": "Ggt4wisJe-Ao",
        "outputId": "ef3fda7b-6285-4c0c-83e3-6b2062fd9815"
      },
      "source": [
        "from sklearn.linear_model import LinearRegression\n",
        "ln_reg= LinearRegression()\n",
        "ln_reg.fit(X_train,y_train)"
      ],
      "execution_count": null,
      "outputs": [
        {
          "output_type": "execute_result",
          "data": {
            "text/plain": [
              "LinearRegression()"
            ]
          },
          "metadata": {},
          "execution_count": 143
        }
      ]
    },
    {
      "cell_type": "code",
      "metadata": {
        "colab": {
          "base_uri": "https://localhost:8080/"
        },
        "id": "8_RPJIR-enCr",
        "outputId": "acfdfce6-2390-4455-a2c0-3833e4e98af7"
      },
      "source": [
        "from sklearn.metrics import mean_squared_error,mean_absolute_error, r2_score\n",
        "\n",
        "y_pred = ln_reg.predict(X_test)\n",
        "print(\"Accuracy: \", ln_reg.score(X_test,y_test))\n",
        "print('Mean Absolute Error of linear regression:',mean_absolute_error(y_pred, y_test))\n",
        "print('Mean Square Error of linear regression:', mean_squared_error(y_pred, y_test))\n",
        "print('R_Squared Score of linear regression:', r2_score(y_pred, y_test))"
      ],
      "execution_count": null,
      "outputs": [
        {
          "output_type": "stream",
          "name": "stdout",
          "text": [
            "Accuracy:  0.8134587887737469\n",
            "Mean Absolute Error of linear regression: 8.206761960737579\n",
            "Mean Square Error of linear regression: 114.15420933862409\n",
            "R_Squared Score of linear regression: 0.7493132889308338\n"
          ]
        }
      ]
    },
    {
      "cell_type": "code",
      "metadata": {
        "colab": {
          "base_uri": "https://localhost:8080/"
        },
        "id": "ZiZoJZZyenKq",
        "outputId": "67e3c709-783f-4aea-9a9e-38bc9260b5fe"
      },
      "source": [
        "from sklearn.ensemble import RandomForestRegressor\n",
        "from sklearn import metrics\n",
        "from sklearn.metrics import confusion_matrix\n",
        "rfcl = RandomForestRegressor(max_depth = 5, min_samples_leaf=5)\n",
        "rfcl = rfcl.fit(X_train, y_train)\n",
        "test_pred = rfcl.predict(X_test)\n",
        "rfcl_score=rfcl.score(X_test , y_test)\n",
        "print(\"The Random forest model accuracy is {}\".format(rfcl_score))"
      ],
      "execution_count": null,
      "outputs": [
        {
          "output_type": "stream",
          "name": "stdout",
          "text": [
            "The Random forest model accuracy is 0.9655745120656904\n"
          ]
        }
      ]
    }
  ]
}